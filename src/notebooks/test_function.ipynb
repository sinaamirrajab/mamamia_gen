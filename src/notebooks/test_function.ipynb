{
 "cells": [
  {
   "cell_type": "code",
   "execution_count": null,
   "metadata": {},
   "outputs": [
    {
     "name": "stderr",
     "output_type": "stream",
     "text": [
      "/home/samirrajab1/.conda/envs/monai/lib/python3.9/site-packages/tqdm/auto.py:21: TqdmWarning: IProgress not found. Please update jupyter and ipywidgets. See https://ipywidgets.readthedocs.io/en/stable/user_install.html\n",
      "  from .autonotebook import tqdm as notebook_tqdm\n"
     ]
    }
   ],
   "source": [
    "from monai.networks.nets import SPADEAutoencoderKL"
   ]
  },
  {
   "cell_type": "code",
   "execution_count": null,
   "metadata": {},
   "outputs": [],
   "source": [
    "from monai.networks.nets import PatchDiscriminator"
   ]
  },
  {
   "cell_type": "code",
   "execution_count": null,
   "metadata": {},
   "outputs": [],
   "source": [
    "from dataset.get_data_df import BREASTSpadeDatasetDF\n",
    "# df_dir = r\"/projects/0/prjs1204/projects/spadebreast2025/src/spadebreast/dataset/combined_df/stratified_96_train_valid_df_seg.csv\"\n",
    "df_train='/projects/0/prjs1204/projects/spadebreast2025/src/spadebreast/dataset/combined_df/stratified_96_train_df_seg.csv'\n",
    "df_valid ='/projects/0/prjs1204/projects/spadebreast2025/src/spadebreast/dataset/combined_df/stratified_96_valid_df_seg.csv'\n",
    "\n",
    "train_ds = BREASTSpadeDatasetDF(df=df_train, phase='train')\n",
    "validation_ds = BREASTSpadeDatasetDF(df=df_valid, phase='valid')\n"
   ]
  },
  {
   "cell_type": "code",
   "execution_count": 1,
   "metadata": {},
   "outputs": [
    {
     "name": "stderr",
     "output_type": "stream",
     "text": [
      "/home/samirrajab1/.conda/envs/monai/lib/python3.9/site-packages/tqdm/auto.py:21: TqdmWarning: IProgress not found. Please update jupyter and ipywidgets. See https://ipywidgets.readthedocs.io/en/stable/user_install.html\n",
      "  from .autonotebook import tqdm as notebook_tqdm\n"
     ]
    }
   ],
   "source": [
    "from dataset.get_data_df import BREASTSpadeDatasetDF_generate\n",
    "df_dir = r\"/projects/0/prjs1204/projects/spadebreast2025/src/spadebreast/dataset/combined_df/stratified_96_train_valid_df_seg.csv\"\n",
    "train_ds = BREASTSpadeDatasetDF_generate(df=df_dir, phase='train')\n",
    "# validation_ds = BREASTSpadeDatasetDF(df=df_dir, phase='valid')"
   ]
  },
  {
   "cell_type": "code",
   "execution_count": 2,
   "metadata": {},
   "outputs": [
    {
     "name": "stdout",
     "output_type": "stream",
     "text": [
      "size of train dataset:  948\n"
     ]
    }
   ],
   "source": [
    "from torch.utils.data import DataLoader\n",
    "train_loader = DataLoader(dataset=train_ds, shuffle=False, batch_size=1,\n",
    "                                num_workers=4)\n",
    "    \n",
    "print(\"size of train dataset: \", len(train_ds))"
   ]
  },
  {
   "cell_type": "code",
   "execution_count": 3,
   "metadata": {},
   "outputs": [
    {
     "name": "stderr",
     "output_type": "stream",
     "text": [
      "/home/samirrajab1/.conda/envs/monai/lib/python3.9/site-packages/torchio/data/image.py:251: UserWarning: Using TorchIO images without a torchio.SubjectsLoader in PyTorch >= 2.3 might have unexpected consequences, e.g., the collated batches will be instances of torchio.Subject with 5D images. Replace your PyTorch DataLoader with a torchio.SubjectsLoader so that the collated batch becomes a dictionary, as expected. See https://github.com/fepegar/torchio/issues/1179 for more context about this issue.\n",
      "  warnings.warn(message, stacklevel=1)\n",
      "/home/samirrajab1/.conda/envs/monai/lib/python3.9/site-packages/torchio/data/image.py:251: UserWarning: Using TorchIO images without a torchio.SubjectsLoader in PyTorch >= 2.3 might have unexpected consequences, e.g., the collated batches will be instances of torchio.Subject with 5D images. Replace your PyTorch DataLoader with a torchio.SubjectsLoader so that the collated batch becomes a dictionary, as expected. See https://github.com/fepegar/torchio/issues/1179 for more context about this issue.\n",
      "  warnings.warn(message, stacklevel=1)\n",
      "/home/samirrajab1/.conda/envs/monai/lib/python3.9/site-packages/torchio/data/image.py:251: UserWarning: Using TorchIO images without a torchio.SubjectsLoader in PyTorch >= 2.3 might have unexpected consequences, e.g., the collated batches will be instances of torchio.Subject with 5D images. Replace your PyTorch DataLoader with a torchio.SubjectsLoader so that the collated batch becomes a dictionary, as expected. See https://github.com/fepegar/torchio/issues/1179 for more context about this issue.\n",
      "  warnings.warn(message, stacklevel=1)\n",
      "/home/samirrajab1/.conda/envs/monai/lib/python3.9/site-packages/torchio/data/image.py:251: UserWarning: Using TorchIO images without a torchio.SubjectsLoader in PyTorch >= 2.3 might have unexpected consequences, e.g., the collated batches will be instances of torchio.Subject with 5D images. Replace your PyTorch DataLoader with a torchio.SubjectsLoader so that the collated batch becomes a dictionary, as expected. See https://github.com/fepegar/torchio/issues/1179 for more context about this issue.\n",
      "  warnings.warn(message, stacklevel=1)\n"
     ]
    }
   ],
   "source": [
    "batch = next(iter(train_loader))\n",
    "# print(batch['image'].shape)\n",
    "# print(batch['label'].shape)\n"
   ]
  },
  {
   "cell_type": "code",
   "execution_count": 9,
   "metadata": {},
   "outputs": [
    {
     "data": {
      "text/plain": [
       "torch.Size([1, 1, 96, 96, 80])"
      ]
     },
     "execution_count": 9,
     "metadata": {},
     "output_type": "execute_result"
    }
   ],
   "source": [
    "batch[\"tio_sub\"]['label'].data.shape"
   ]
  },
  {
   "cell_type": "code",
   "execution_count": 10,
   "metadata": {},
   "outputs": [
    {
     "name": "stdout",
     "output_type": "stream",
     "text": [
      "torch.Size([5, 1, 96, 96, 80])\n"
     ]
    }
   ],
   "source": [
    "import torch\n",
    "images = torch.cat(\n",
    "    [batch[\"tio_sub\"][key].data for key in batch[\"tio_sub\"].keys() if \"image\" in key],\n",
    "    dim=0\n",
    ")\n",
    "print(images.shape)\n",
    "# print(batch[\"tio_sub\"]['label'].data.shape)"
   ]
  },
  {
   "cell_type": "code",
   "execution_count": 11,
   "metadata": {},
   "outputs": [
    {
     "name": "stdout",
     "output_type": "stream",
     "text": [
      "['/projects/0/prjs1204/data/mamamia/mamamia_processed/pcr/stratified_96_train/images/DUKE_001/duke_001_0000.nii.gz', '/projects/0/prjs1204/data/mamamia/mamamia_processed/pcr/stratified_96_train/images/DUKE_001/duke_001_0001.nii.gz', '/projects/0/prjs1204/data/mamamia/mamamia_processed/pcr/stratified_96_train/images/DUKE_001/duke_001_0002.nii.gz', '/projects/0/prjs1204/data/mamamia/mamamia_processed/pcr/stratified_96_train/images/DUKE_001/duke_001_0003.nii.gz', '/projects/0/prjs1204/data/mamamia/mamamia_processed/pcr/stratified_96_train/images/DUKE_001/duke_001_0004.nii.gz']\n"
     ]
    }
   ],
   "source": [
    "from pathlib import Path\n",
    "import os\n",
    "image_file = Path(batch['images_path'][0])\n",
    "image_dir = image_file.parent\n",
    "images_path = sorted(os.listdir(image_dir))\n",
    "images_path = [os.path.join(image_dir, image) for image in images_path]\n",
    "print(images_path)"
   ]
  },
  {
   "cell_type": "code",
   "execution_count": 11,
   "metadata": {},
   "outputs": [
    {
     "data": {
      "text/plain": [
       "{'patient_id': ['DUKE_001'],\n",
       " 'image_id': ['DUKE_001_0000'],\n",
       " 'image_path': ['/projects/0/prjs1204/data/mamamia/mamamia_processed/pcr/stratified_96_train/images/DUKE_001/duke_001_0000.nii.gz'],\n",
       " 'pcr': tensor([0.], dtype=torch.float64),\n",
       " 'age': tensor([41.], dtype=torch.float64),\n",
       " 'tumor_subtype': ['HER2pos'],\n",
       " 'her2': tensor([1.], dtype=torch.float64),\n",
       " 'seg_path': ['/projects/0/prjs1204/data/mamamia/mamamia_processed/pcr/stratified_96_train/segmentations/expert/DUKE_001.nii.gz']}"
      ]
     },
     "execution_count": 11,
     "metadata": {},
     "output_type": "execute_result"
    }
   ],
   "source": [
    "batch['data']"
   ]
  },
  {
   "cell_type": "code",
   "execution_count": null,
   "metadata": {},
   "outputs": [],
   "source": [
    "import torch\n",
    "import os\n",
    "\n",
    "model_name = 'ddp_spade_96_250403'\n",
    "dir_name = \"/projects/0/prjs1204/projects/spadebreast2025/src/spadebreast/checkpoints/\"\n",
    "\n",
    "\n",
    "i = 20\n",
    "loss =[]\n",
    "checkpoint = torch.load(\n",
    "    os.path.join(dir_name, model_name, f\"checkpoint_{i}.pth\"),\n",
    "    map_location=\"cpu\",\n",
    ")\n",
    "loss+= checkpoint[\"best_loss\"]\n"
   ]
  },
  {
   "cell_type": "code",
   "execution_count": null,
   "metadata": {},
   "outputs": [
    {
     "data": {
      "text/plain": [
       "0.013957204948164133"
      ]
     },
     "execution_count": 7,
     "metadata": {},
     "output_type": "execute_result"
    }
   ],
   "source": []
  },
  {
   "cell_type": "code",
   "execution_count": null,
   "metadata": {},
   "outputs": [],
   "source": []
  }
 ],
 "metadata": {
  "kernelspec": {
   "display_name": "Python 3",
   "language": "python",
   "name": "python3"
  },
  "language_info": {
   "codemirror_mode": {
    "name": "ipython",
    "version": 3
   },
   "file_extension": ".py",
   "mimetype": "text/x-python",
   "name": "python",
   "nbconvert_exporter": "python",
   "pygments_lexer": "ipython3",
   "version": "3.10.16"
  }
 },
 "nbformat": 4,
 "nbformat_minor": 2
}
